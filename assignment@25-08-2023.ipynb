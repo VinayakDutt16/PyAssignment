{
 "cells": [
  {
   "cell_type": "code",
   "execution_count": 1,
   "id": "c1691473",
   "metadata": {},
   "outputs": [
    {
     "name": "stdout",
     "output_type": "stream",
     "text": [
      "1\n",
      "12\n",
      "123\n",
      "1234\n"
     ]
    }
   ],
   "source": [
    "for outervalue in range(1,5): \n",
    "        for innervalue in range(1,outervalue+1):\n",
    "            print(innervalue,end=\"\")\n",
    "        print(\"\")"
   ]
  },
  {
   "cell_type": "code",
   "execution_count": 2,
   "id": "155f5361",
   "metadata": {},
   "outputs": [
    {
     "name": "stdout",
     "output_type": "stream",
     "text": [
      "A\n",
      "AB\n",
      "ABC\n"
     ]
    }
   ],
   "source": [
    "for outervalue in range(1,4): \n",
    "    for innervalue in range(1,outervalue+1):\n",
    "        print(chr(innervalue + 64),end=\"\")\n",
    "    print(\"\")"
   ]
  },
  {
   "cell_type": "code",
   "execution_count": 3,
   "id": "aa5382cd",
   "metadata": {},
   "outputs": [
    {
     "name": "stdout",
     "output_type": "stream",
     "text": [
      "1\n",
      "23\n",
      "456\n"
     ]
    }
   ],
   "source": [
    "i=1\n",
    "for outervalue in range(1,4): \n",
    "    for innervalue in range(1,outervalue+1):\n",
    "        print(i,end=\"\")\n",
    "        i+=1\n",
    "    print(\"\")"
   ]
  },
  {
   "cell_type": "code",
   "execution_count": 6,
   "id": "c7bc1a42",
   "metadata": {},
   "outputs": [
    {
     "name": "stdout",
     "output_type": "stream",
     "text": [
      "A\n",
      "BC\n",
      "DEF\n",
      "GHIJ\n"
     ]
    }
   ],
   "source": [
    "i=65\n",
    "for outervalue in range(1,5): \n",
    "    for innervalue in range(1,outervalue+1):\n",
    "        print(chr(i),end=\"\")\n",
    "        i+=1\n",
    "    print(\"\")"
   ]
  },
  {
   "cell_type": "code",
   "execution_count": 61,
   "id": "025e3271",
   "metadata": {},
   "outputs": [
    {
     "name": "stdout",
     "output_type": "stream",
     "text": [
      "****\n",
      " ***\n",
      "  **\n",
      "   *\n"
     ]
    }
   ],
   "source": [
    "i=1\n",
    "while(i<=4):\n",
    "    s=2\n",
    "    while(s<=i):\n",
    "        print(\" \",end=\"\")\n",
    "        s+=1\n",
    "    j=4\n",
    "    while(j>=i):\n",
    "        print(\"*\",end=\"\")\n",
    "        j-=1\n",
    "    print(\"\")\n",
    "    i+=1\n",
    "    "
   ]
  },
  {
   "cell_type": "code",
   "execution_count": 95,
   "id": "107c245a",
   "metadata": {},
   "outputs": [
    {
     "name": "stdout",
     "output_type": "stream",
     "text": [
      "Enter your password :ABCrst12@#$\n",
      "Enterd Password is in correct format\n"
     ]
    }
   ],
   "source": [
    "\n",
    "stn=input(\"Enter your password :\")\n",
    "sp,s,u,d=0,0,0,0\n",
    "c=len(stn)\n",
    "if(6<=c<=15):\n",
    "    for i in stn:\n",
    "        if(i>='A' and  i<='Z'):\n",
    "            u+=1\n",
    "        if(i>='r' and i<='z'):\n",
    "            s+=1\n",
    "        if(i.isdigit()):\n",
    "            d+=1\n",
    "        if(i=='@' or i=='#' or i=='$'):\n",
    "            sp+=1\n",
    "if(u>=1 and s>=1 and d>=1 and sp>=1 and u+s+d+sp==c):\n",
    "    print(\"Enterd Password is in correct format\")                       \n",
    "else:\n",
    "    print(\"Enterd Password is not in correct format!!!\")\n",
    "                "
   ]
  },
  {
   "cell_type": "code",
   "execution_count": 113,
   "id": "d95857da",
   "metadata": {},
   "outputs": [
    {
     "name": "stdout",
     "output_type": "stream",
     "text": [
      "Insert the values of list :hi hi my name is vinayak it is nice nice to meet u u\n",
      "['hi', 'my', 'name', 'is', 'vinayak', 'it', 'nice', 'to', 'meet', 'u']\n"
     ]
    }
   ],
   "source": [
    "''' Q2 Take a input string from the user and find out all the unique\n",
    "words from the string\n",
    "#     hey hello hey tushar hello\n",
    "#  hey hello tushar\n",
    "'''\n",
    "a = input(\"Insert the values of list :\")\n",
    "b = []\n",
    " \n",
    "for w in a.split():\n",
    "    if w not in b:\n",
    "        b.append(w)\n",
    " \n",
    "print(b)"
   ]
  },
  {
   "cell_type": "code",
   "execution_count": null,
   "id": "7511d7af",
   "metadata": {},
   "outputs": [],
   "source": []
  }
 ],
 "metadata": {
  "kernelspec": {
   "display_name": "Python 3 (ipykernel)",
   "language": "python",
   "name": "python3"
  },
  "language_info": {
   "codemirror_mode": {
    "name": "ipython",
    "version": 3
   },
   "file_extension": ".py",
   "mimetype": "text/x-python",
   "name": "python",
   "nbconvert_exporter": "python",
   "pygments_lexer": "ipython3",
   "version": "3.11.3"
  }
 },
 "nbformat": 4,
 "nbformat_minor": 5
}

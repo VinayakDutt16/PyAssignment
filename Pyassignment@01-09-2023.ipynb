{
 "cells": [
  {
   "cell_type": "code",
   "execution_count": 1,
   "id": "29cc62f1",
   "metadata": {},
   "outputs": [
    {
     "name": "stdout",
     "output_type": "stream",
     "text": [
      "Collecting pytubeNote: you may need to restart the kernel to use updated packages.\n",
      "\n",
      "  Downloading pytube-15.0.0-py3-none-any.whl (57 kB)\n",
      "                                              0.0/57.6 kB ? eta -:--:--\n",
      "     ---------------------                    30.7/57.6 kB ? eta -:--:--\n",
      "     ---------------------                    30.7/57.6 kB ? eta -:--:--\n",
      "     ---------------------                    30.7/57.6 kB ? eta -:--:--\n",
      "     ---------------------                    30.7/57.6 kB ? eta -:--:--\n",
      "     ---------------------                    30.7/57.6 kB ? eta -:--:--\n",
      "     ---------------------                    30.7/57.6 kB ? eta -:--:--\n",
      "     ---------------------                    30.7/57.6 kB ? eta -:--:--\n",
      "     ---------------------                    30.7/57.6 kB ? eta -:--:--\n",
      "     ---------------------                    30.7/57.6 kB ? eta -:--:--\n",
      "     ---------------------                    30.7/57.6 kB ? eta -:--:--\n",
      "     ---------------------                    30.7/57.6 kB ? eta -:--:--\n",
      "     ---------------------                    30.7/57.6 kB ? eta -:--:--\n",
      "     ---------------------                    30.7/57.6 kB ? eta -:--:--\n",
      "     ---------------------                    30.7/57.6 kB ? eta -:--:--\n",
      "     ----------------------------------      51.2/57.6 kB 59.6 kB/s eta 0:00:01\n",
      "     --------------------------------------- 57.6/57.6 kB 66.0 kB/s eta 0:00:00\n",
      "Installing collected packages: pytube\n",
      "Successfully installed pytube-15.0.0\n"
     ]
    }
   ],
   "source": [
    "pip install pytube"
   ]
  },
  {
   "cell_type": "code",
   "execution_count": 14,
   "id": "0a7bd4c9",
   "metadata": {},
   "outputs": [
    {
     "name": "stdout",
     "output_type": "stream",
     "text": [
      "Video link: https://www.youtube.com/watch?v=7cpD3t3WwV0\n"
     ]
    },
    {
     "data": {
      "text/plain": [
       "'C:\\\\Users\\\\HP\\\\Castle of Glass (M Shinoda Remix).mp4'"
      ]
     },
     "execution_count": 14,
     "metadata": {},
     "output_type": "execute_result"
    }
   ],
   "source": [
    "\n",
    "from pytube import YouTube\n",
    "\n",
    "# Get link from user.\n",
    "link = input(\"Video link: \")\n",
    "yt = YouTube(link)\n",
    "\n",
    "# Select the highest available resolution of the video.\n",
    "video_files = yt.streams\n",
    "video_files = video_files.filter(progressive=True)\n",
    "d_file = video_files.order_by('resolution')[-1]\n",
    "\n",
    "# Download the video file.\n",
    "d_file.download()"
   ]
  },
  {
   "cell_type": "code",
   "execution_count": null,
   "id": "022b1f71",
   "metadata": {},
   "outputs": [],
   "source": []
  }
 ],
 "metadata": {
  "kernelspec": {
   "display_name": "Python 3 (ipykernel)",
   "language": "python",
   "name": "python3"
  },
  "language_info": {
   "codemirror_mode": {
    "name": "ipython",
    "version": 3
   },
   "file_extension": ".py",
   "mimetype": "text/x-python",
   "name": "python",
   "nbconvert_exporter": "python",
   "pygments_lexer": "ipython3",
   "version": "3.11.3"
  }
 },
 "nbformat": 4,
 "nbformat_minor": 5
}

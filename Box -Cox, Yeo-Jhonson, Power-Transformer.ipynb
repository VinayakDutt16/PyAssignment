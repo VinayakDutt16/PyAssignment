{
 "cells": [
  {
   "cell_type": "markdown",
   "id": "ae6e2601",
   "metadata": {},
   "source": [
    "# Box-Cox Transform"
   ]
  },
  {
   "cell_type": "markdown",
   "id": "a5051b62",
   "metadata": {},
   "source": [
    " The Box-Cox Transformation is appropriate for non-negative data that does not contain zero values\n",
    " It assumes that the data follows normal distribution and applies a power transformation to acheicve normally.\n",
    "The Box-Cox Transformation is a more rigid transformation compared to the Yeo-Johson Transformation \n",
    " because it requires the data to be strictly positive and cannot handle Zero Values."
   ]
  },
  {
   "cell_type": "code",
   "execution_count": 58,
   "id": "7671cd4a",
   "metadata": {},
   "outputs": [
    {
     "name": "stdout",
     "output_type": "stream",
     "text": [
      "Original Data : \n",
      " [[1.37664249]\n",
      " [1.15412878]\n",
      " [0.13596421]\n",
      " [2.78083356]\n",
      " [2.6312403 ]]\n",
      "Transformed Data : \n",
      " [[ 0.033553  ]\n",
      " [-0.13293155]\n",
      " [-1.52688472]\n",
      " [ 0.80594916]\n",
      " [ 0.73831291]]\n"
     ]
    }
   ],
   "source": [
    "import numpy as np \n",
    "from sklearn.preprocessing import PowerTransformer\n",
    "#Generate some random data with a skewd Distribution\n",
    "data = np.random.gamma(1,2,size = (100,1))\n",
    "# Instantiate a PowerTransformer object \n",
    "pt = PowerTransformer(method = \"box-cox\")\n",
    "\n",
    "transformed_data = pt.fit_transform(data)\n",
    "# Print the original and transformed data to compare\n",
    "print('Original Data : \\n',data[:5])\n",
    "print('Transformed Data : \\n',transformed_data[:5])"
   ]
  },
  {
   "cell_type": "markdown",
   "id": "d9271031",
   "metadata": {},
   "source": [
    "# Yeo-Johnson"
   ]
  },
  {
   "cell_type": "markdown",
   "id": "034cdfe6",
   "metadata": {},
   "source": [
    " The Yeo-Johnson Transformation is a more flexible transformation that can be applied to both positive and negative data, including zero values.\n",
    "It also assumes that the data follows a normal distribution, but it applies a slightly different power transformation than the Box-Cox Transformation .\n",
    "The Yeo-Jhonson transformation is a more robust transformation that can handle a wider range of data types and distributions to the Box-Cox transformation"
   ]
  },
  {
   "cell_type": "code",
   "execution_count": 59,
   "id": "5a01460d",
   "metadata": {},
   "outputs": [
    {
     "name": "stdout",
     "output_type": "stream",
     "text": [
      "Original Data : \n",
      " [[0.07838973]\n",
      " [2.17957103]\n",
      " [3.53684205]\n",
      " [4.94369986]\n",
      " [0.04175615]]\n",
      "Transformed Data : \n",
      " [[-1.65625582]\n",
      " [ 0.22285031]\n",
      " [ 0.77543732]\n",
      " [ 1.17555474]\n",
      " [-1.72162463]]\n"
     ]
    }
   ],
   "source": [
    "import numpy as np \n",
    "from sklearn.preprocessing import PowerTransformer\n",
    "#Generate some random data with a skewd Distribution\n",
    "data = np.random.gamma(1,2,size = (100,1))\n",
    "# Instantiate a PowerTransformer object\n",
    "pt = PowerTransformer(method = \"yeo-johnson\")\n",
    "\n",
    "transformed_data = pt.fit_transform(data)\n",
    "# Print the original and transformed data to compare\n",
    "print('Original Data : \\n',data[:5])\n",
    "print('Transformed Data : \\n',transformed_data[:5])"
   ]
  },
  {
   "cell_type": "code",
   "execution_count": 60,
   "id": "fe7be96c",
   "metadata": {},
   "outputs": [],
   "source": [
    "import numpy as np \n",
    "from sklearn.preprocessing import PowerTransformer\n",
    "from sklearn.model_selection import train_test_split\n",
    "from sklearn.linear_model import LinearRegression\n",
    "\n",
    "#create a synthetic dataset\n",
    "\n",
    "X= np.random.normal(loc = 100, scale = 10,size = (1000,5))\n",
    "y= np.random.normal(loc = 100, scale = 10,size = 1000)\n",
    "\n",
    "# Split the data into training and testing sets\n",
    "X_train , X_test, y_train, y_test = train_test_split(X,y,test_size= 0.2,random_state = 42)\n",
    "\n",
    "# Fit and transform using Box-Cox Method\n",
    "boxcox_transformer = PowerTransformer(method = 'box-cox', standardize = True)\n",
    "X_train_bc = boxcox_transformer.fit_transform(X_train)\n",
    "X_test_bc = boxcox_transformer.transform(X_test)\n",
    "\n",
    "\n",
    "# Fit and transform using Yeo-johnson Method\n",
    "yeojohnson_transformer = PowerTransformer(method = 'yeo-johnson', standardize = True)\n",
    "X_train_yj = yeojohnson_transformer.fit_transform(X_train)\n",
    "X_test_yj = yeojohnson_transformer.transform(X_test)"
   ]
  },
  {
   "cell_type": "markdown",
   "id": "b52d30e6",
   "metadata": {},
   "source": [
    "# Pipeline"
   ]
  },
  {
   "cell_type": "code",
   "execution_count": 61,
   "id": "194bfe77",
   "metadata": {},
   "outputs": [
    {
     "name": "stdout",
     "output_type": "stream",
     "text": [
      "[4.52640537 3.58494271 3.5207454  3.41311859 3.42220728 2.69723314\n",
      " 2.99203473 2.41406864 2.26712729 2.61132465]\n"
     ]
    }
   ],
   "source": [
    "import pandas as pd\n",
    "from sklearn.compose import ColumnTransformer\n",
    "from sklearn.pipeline import Pipeline\n",
    "from sklearn.linear_model import LinearRegression\n",
    "from sklearn.preprocessing import StandardScaler , OneHotEncoder\n",
    "from sklearn.datasets import fetch_california_housing\n",
    "\n",
    "# Load the california housing dataset\n",
    "housing = fetch_california_housing(as_frame = True)\n",
    "\n",
    "# Define the numeric features and categorical features\n",
    "numeric_features = housing.feature_names[:2]\n",
    "categorical_features = housing.feature_names[2:]\n",
    "\n",
    "# Define the Preprocessing pipelines for the numeric features and the categorical features\n",
    "numeric_transformer = Pipeline(steps = [('scaler', StandardScaler())])\n",
    "categorical_transformer = Pipeline(steps = [('onehot', OneHotEncoder(handle_unknown = 'ignore'))])\n",
    "\n",
    "#Use ColumnTransformer to combine the numeric and categorical\n",
    "preprocessor = ColumnTransformer(\n",
    "    transformers = [\n",
    "        ('num', numeric_transformer, numeric_features),\n",
    "        ('cat', categorical_transformer, categorical_features)\n",
    "    ])\n",
    "# Define the pipeline with the preprocessor and the lineqrRegression model\n",
    "pipeline = Pipeline(steps = [('preprocessor',preprocessor),\n",
    "                            ('regressor',LinearRegression())])\n",
    "\n",
    "X = pd.DataFrame(housing.data, columns = housing.feature_names)\n",
    "y = pd.Series(housing.target)\n",
    "\n",
    "#Fit pipeline to the data\n",
    "pipeline.fit(X,y)\n",
    "\n",
    "#Predict on new data\n",
    "X_new = X.iloc[:10]\n",
    "y_pred = pipeline.predict(X_new)\n",
    "print(y_pred)"
   ]
  },
  {
   "cell_type": "code",
   "execution_count": 62,
   "id": "f0665a7a",
   "metadata": {},
   "outputs": [
    {
     "data": {
      "text/html": [
       "<div>\n",
       "<style scoped>\n",
       "    .dataframe tbody tr th:only-of-type {\n",
       "        vertical-align: middle;\n",
       "    }\n",
       "\n",
       "    .dataframe tbody tr th {\n",
       "        vertical-align: top;\n",
       "    }\n",
       "\n",
       "    .dataframe thead th {\n",
       "        text-align: right;\n",
       "    }\n",
       "</style>\n",
       "<table border=\"1\" class=\"dataframe\">\n",
       "  <thead>\n",
       "    <tr style=\"text-align: right;\">\n",
       "      <th></th>\n",
       "      <th>age</th>\n",
       "      <th>gender</th>\n",
       "      <th>fever</th>\n",
       "      <th>cough</th>\n",
       "      <th>city</th>\n",
       "      <th>has_covid</th>\n",
       "    </tr>\n",
       "  </thead>\n",
       "  <tbody>\n",
       "    <tr>\n",
       "      <th>0</th>\n",
       "      <td>60</td>\n",
       "      <td>Male</td>\n",
       "      <td>103.0</td>\n",
       "      <td>Mild</td>\n",
       "      <td>Kolkata</td>\n",
       "      <td>No</td>\n",
       "    </tr>\n",
       "    <tr>\n",
       "      <th>1</th>\n",
       "      <td>27</td>\n",
       "      <td>Male</td>\n",
       "      <td>100.0</td>\n",
       "      <td>Mild</td>\n",
       "      <td>Delhi</td>\n",
       "      <td>Yes</td>\n",
       "    </tr>\n",
       "    <tr>\n",
       "      <th>2</th>\n",
       "      <td>42</td>\n",
       "      <td>Male</td>\n",
       "      <td>101.0</td>\n",
       "      <td>Mild</td>\n",
       "      <td>Delhi</td>\n",
       "      <td>No</td>\n",
       "    </tr>\n",
       "    <tr>\n",
       "      <th>3</th>\n",
       "      <td>31</td>\n",
       "      <td>Female</td>\n",
       "      <td>98.0</td>\n",
       "      <td>Mild</td>\n",
       "      <td>Kolkata</td>\n",
       "      <td>No</td>\n",
       "    </tr>\n",
       "    <tr>\n",
       "      <th>4</th>\n",
       "      <td>65</td>\n",
       "      <td>Female</td>\n",
       "      <td>101.0</td>\n",
       "      <td>Mild</td>\n",
       "      <td>Mumbai</td>\n",
       "      <td>No</td>\n",
       "    </tr>\n",
       "  </tbody>\n",
       "</table>\n",
       "</div>"
      ],
      "text/plain": [
       "   age  gender  fever cough     city has_covid\n",
       "0   60    Male  103.0  Mild  Kolkata        No\n",
       "1   27    Male  100.0  Mild    Delhi       Yes\n",
       "2   42    Male  101.0  Mild    Delhi        No\n",
       "3   31  Female   98.0  Mild  Kolkata        No\n",
       "4   65  Female  101.0  Mild   Mumbai        No"
      ]
     },
     "execution_count": 62,
     "metadata": {},
     "output_type": "execute_result"
    }
   ],
   "source": [
    "import numpy as np \n",
    "\n",
    "df = pd.read_csv(\"C:/Users/HP/Downloads/covid_toy.csv\")\n",
    "\n",
    "df.head()"
   ]
  },
  {
   "cell_type": "code",
   "execution_count": 63,
   "id": "fce4d98c",
   "metadata": {},
   "outputs": [
    {
     "name": "stdout",
     "output_type": "stream",
     "text": [
      "['No' 'Yes' 'No' 'No' 'No' 'No' 'Yes' 'Yes' 'No' 'Yes' 'No' 'No' 'Yes'\n",
      " 'Yes' 'No' 'No' 'No' 'Yes' 'Yes' 'No']\n"
     ]
    }
   ],
   "source": [
    "\n",
    "from sklearn.compose import ColumnTransformer\n",
    "from sklearn.pipeline import Pipeline\n",
    "from sklearn.linear_model import LogisticRegression\n",
    "from sklearn.preprocessing import StandardScaler , OneHotEncoder\n",
    "from sklearn.impute import SimpleImputer\n",
    "from sklearn.model_selection import train_test_split \n",
    "    \n",
    "    \n",
    "X_train , X_test, y_train ,y_test = train_test_split(df.drop('has_covid',axis = 1),df[\"has_covid\"],test_size = 0.2, random_state = 42)\n",
    "\n",
    "#Define the columns that need to be preprocessed\n",
    "categorical_features  = ['gender','city']\n",
    "numeric_features = ['age','fever']\n",
    "\n",
    "#create transformers\n",
    "numeric_transformer = Pipeline(steps = [\n",
    "    ('imputer',SimpleImputer(strategy = 'mean')),\n",
    "    ('scaler',StandardScaler())\n",
    "])\n",
    "categorical_transformer = Pipeline(steps = [\n",
    "    ('imputer',SimpleImputer(strategy = 'most_frequent')),\n",
    "    ('onehot',OneHotEncoder(handle_unknown = 'ignore'))\n",
    "])\n",
    "\n",
    "preprocessor = ColumnTransformer(\n",
    "    transformers =[\n",
    "    ('num',numeric_transformer, numeric_features),\n",
    "    ('cat',categorical_transformer, categorical_features)\n",
    "])\n",
    "clf = Pipeline(steps = [('preprocessor',preprocessor),\n",
    "                       ('classifier',LogisticRegression())])\n",
    "# train the model\n",
    "\n",
    "clf.fit(X_train , y_train)\n",
    "    \n",
    "y_pred = clf.predict(X_test)\n",
    "print(y_pred)"
   ]
  },
  {
   "cell_type": "code",
   "execution_count": 64,
   "id": "d6741334",
   "metadata": {},
   "outputs": [
    {
     "data": {
      "text/html": [
       "<div>\n",
       "<style scoped>\n",
       "    .dataframe tbody tr th:only-of-type {\n",
       "        vertical-align: middle;\n",
       "    }\n",
       "\n",
       "    .dataframe tbody tr th {\n",
       "        vertical-align: top;\n",
       "    }\n",
       "\n",
       "    .dataframe thead th {\n",
       "        text-align: right;\n",
       "    }\n",
       "</style>\n",
       "<table border=\"1\" class=\"dataframe\">\n",
       "  <thead>\n",
       "    <tr style=\"text-align: right;\">\n",
       "      <th></th>\n",
       "      <th>User ID</th>\n",
       "      <th>Gender</th>\n",
       "      <th>Age</th>\n",
       "      <th>EstimatedSalary</th>\n",
       "      <th>Purchased</th>\n",
       "    </tr>\n",
       "  </thead>\n",
       "  <tbody>\n",
       "    <tr>\n",
       "      <th>0</th>\n",
       "      <td>15624510</td>\n",
       "      <td>Male</td>\n",
       "      <td>19</td>\n",
       "      <td>19000</td>\n",
       "      <td>0</td>\n",
       "    </tr>\n",
       "    <tr>\n",
       "      <th>1</th>\n",
       "      <td>15810944</td>\n",
       "      <td>Male</td>\n",
       "      <td>35</td>\n",
       "      <td>20000</td>\n",
       "      <td>0</td>\n",
       "    </tr>\n",
       "    <tr>\n",
       "      <th>2</th>\n",
       "      <td>15668575</td>\n",
       "      <td>Female</td>\n",
       "      <td>26</td>\n",
       "      <td>43000</td>\n",
       "      <td>0</td>\n",
       "    </tr>\n",
       "    <tr>\n",
       "      <th>3</th>\n",
       "      <td>15603246</td>\n",
       "      <td>Female</td>\n",
       "      <td>27</td>\n",
       "      <td>57000</td>\n",
       "      <td>0</td>\n",
       "    </tr>\n",
       "    <tr>\n",
       "      <th>4</th>\n",
       "      <td>15804002</td>\n",
       "      <td>Male</td>\n",
       "      <td>19</td>\n",
       "      <td>76000</td>\n",
       "      <td>0</td>\n",
       "    </tr>\n",
       "  </tbody>\n",
       "</table>\n",
       "</div>"
      ],
      "text/plain": [
       "    User ID  Gender  Age  EstimatedSalary  Purchased\n",
       "0  15624510    Male   19            19000          0\n",
       "1  15810944    Male   35            20000          0\n",
       "2  15668575  Female   26            43000          0\n",
       "3  15603246  Female   27            57000          0\n",
       "4  15804002    Male   19            76000          0"
      ]
     },
     "execution_count": 64,
     "metadata": {},
     "output_type": "execute_result"
    }
   ],
   "source": [
    "\n",
    "from sklearn.decomposition import PCA\n",
    "from sklearn.pipeline import Pipeline\n",
    "from sklearn.ensemble import RandomForestClassifier\n",
    "from sklearn.preprocessing import StandardScaler \n",
    "from sklearn.metrics import accuracy_score , classification_report\n",
    "from sklearn.model_selection import train_test_split \n",
    "    \n",
    "df= pd.read_csv(\"C:/Users/HP/Downloads/Social_Network_Ads.csv\")\n",
    "df.head()"
   ]
  },
  {
   "cell_type": "code",
   "execution_count": 65,
   "id": "d10fa0b9",
   "metadata": {},
   "outputs": [],
   "source": [
    "df = df.drop(columns = ['User ID', 'Gender'])\n",
    "\n",
    "x = df.drop(columns = ['Purchased'],axis = 1)\n",
    "y = df['Purchased']\n"
   ]
  },
  {
   "cell_type": "code",
   "execution_count": 66,
   "id": "300ca435",
   "metadata": {},
   "outputs": [],
   "source": [
    "x_train , x_test, y_train ,y_test = train_test_split(x,y,test_size = 0.2, random_state = 42)\n",
    "\n",
    "pipe = Pipeline([\n",
    "    ('scaler',StandardScaler()),\n",
    "    ('pca',PCA(n_components = 2)),\n",
    "    ('classifier',RandomForestClassifier(n_estimators = 100,random_state = 42))\n",
    "])"
   ]
  },
  {
   "cell_type": "code",
   "execution_count": 67,
   "id": "0bb97e75",
   "metadata": {},
   "outputs": [
    {
     "data": {
      "text/plain": [
       "Pipeline(steps=[('scaler', StandardScaler()), ('pca', PCA(n_components=2)),\n",
       "                ('classifier', RandomForestClassifier(random_state=42))])"
      ]
     },
     "execution_count": 67,
     "metadata": {},
     "output_type": "execute_result"
    }
   ],
   "source": [
    "pipe"
   ]
  },
  {
   "cell_type": "code",
   "execution_count": 68,
   "id": "59a63c1e",
   "metadata": {},
   "outputs": [
    {
     "data": {
      "text/plain": [
       "Pipeline(steps=[('scaler', StandardScaler()), ('pca', PCA(n_components=2)),\n",
       "                ('classifier', RandomForestClassifier(random_state=42))])"
      ]
     },
     "execution_count": 68,
     "metadata": {},
     "output_type": "execute_result"
    }
   ],
   "source": [
    "pipe.fit(x_train, y_train)"
   ]
  },
  {
   "cell_type": "code",
   "execution_count": 69,
   "id": "71ee740e",
   "metadata": {},
   "outputs": [],
   "source": [
    "y_pred = pipe.predict(x_test)"
   ]
  },
  {
   "cell_type": "code",
   "execution_count": 70,
   "id": "6b929f5e",
   "metadata": {},
   "outputs": [
    {
     "name": "stdout",
     "output_type": "stream",
     "text": [
      "0.8875\n"
     ]
    }
   ],
   "source": [
    "acc = accuracy_score(y_test,y_pred)\n",
    "print(acc)\n"
   ]
  },
  {
   "cell_type": "code",
   "execution_count": null,
   "id": "0643ce62",
   "metadata": {},
   "outputs": [],
   "source": []
  },
  {
   "cell_type": "code",
   "execution_count": null,
   "id": "0ae06a4f",
   "metadata": {},
   "outputs": [],
   "source": []
  },
  {
   "cell_type": "code",
   "execution_count": null,
   "id": "18656828",
   "metadata": {},
   "outputs": [],
   "source": []
  },
  {
   "cell_type": "code",
   "execution_count": null,
   "id": "f18d9d41",
   "metadata": {},
   "outputs": [],
   "source": []
  }
 ],
 "metadata": {
  "kernelspec": {
   "display_name": "Python 3 (ipykernel)",
   "language": "python",
   "name": "python3"
  },
  "language_info": {
   "codemirror_mode": {
    "name": "ipython",
    "version": 3
   },
   "file_extension": ".py",
   "mimetype": "text/x-python",
   "name": "python",
   "nbconvert_exporter": "python",
   "pygments_lexer": "ipython3",
   "version": "3.11.4"
  }
 },
 "nbformat": 4,
 "nbformat_minor": 5
}

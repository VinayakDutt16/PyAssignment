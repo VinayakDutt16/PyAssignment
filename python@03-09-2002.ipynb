{
 "cells": [
  {
   "cell_type": "code",
   "execution_count": 1,
   "id": "adf702d8",
   "metadata": {},
   "outputs": [
    {
     "data": {
      "text/plain": [
       "3"
      ]
     },
     "execution_count": 1,
     "metadata": {},
     "output_type": "execute_result"
    }
   ],
   "source": [
    "#polymorphism , obj,variable , function\n",
    "1+2"
   ]
  },
  {
   "cell_type": "code",
   "execution_count": 2,
   "id": "5af6af0b",
   "metadata": {},
   "outputs": [
    {
     "data": {
      "text/plain": [
       "'hi'"
      ]
     },
     "execution_count": 2,
     "metadata": {},
     "output_type": "execute_result"
    }
   ],
   "source": [
    "\"h\"+\"i\""
   ]
  },
  {
   "cell_type": "code",
   "execution_count": 3,
   "id": "a81fa6d0",
   "metadata": {},
   "outputs": [
    {
     "ename": "IndentationError",
     "evalue": "expected an indented block after function definition on line 2 (1596678818.py, line 5)",
     "output_type": "error",
     "traceback": [
      "\u001b[1;36m  Cell \u001b[1;32mIn[3], line 5\u001b[1;36m\u001b[0m\n\u001b[1;33m    def fun(x,y,z):\u001b[0m\n\u001b[1;37m    ^\u001b[0m\n\u001b[1;31mIndentationError\u001b[0m\u001b[1;31m:\u001b[0m expected an indented block after function definition on line 2\n"
     ]
    }
   ],
   "source": [
    "#function overloading\n",
    "def fun(x,y):\n",
    "    \n",
    "    \n",
    "def fun(x,y,z):"
   ]
  },
  {
   "cell_type": "code",
   "execution_count": 4,
   "id": "c2f0e5da",
   "metadata": {},
   "outputs": [
    {
     "ename": "SyntaxError",
     "evalue": "invalid syntax (3266581843.py, line 2)",
     "output_type": "error",
     "traceback": [
      "\u001b[1;36m  Cell \u001b[1;32mIn[4], line 2\u001b[1;36m\u001b[0m\n\u001b[1;33m    def fun(int x , int y)\u001b[0m\n\u001b[1;37m                ^\u001b[0m\n\u001b[1;31mSyntaxError\u001b[0m\u001b[1;31m:\u001b[0m invalid syntax\n"
     ]
    }
   ],
   "source": [
    "#function oveloading\n",
    "def fun(int x , int y)\n",
    "\n",
    "def fun(string x ,int y)\n",
    "\n",
    "fun(10,20)\n",
    "fun(\"10\",20)"
   ]
  },
  {
   "cell_type": "code",
   "execution_count": 6,
   "id": "eb832d3b",
   "metadata": {},
   "outputs": [
    {
     "name": "stdout",
     "output_type": "stream",
     "text": [
      "second\n"
     ]
    },
    {
     "data": {
      "text/plain": [
       "<__main__.student1 at 0x2b8f4171350>"
      ]
     },
     "execution_count": 6,
     "metadata": {},
     "output_type": "execute_result"
    }
   ],
   "source": [
    "#python does't support method overloading or constructor overloading\n",
    "#it only support method overriding or constructor overiding\n",
    "#overriding => same function name  and same parmeters \n",
    "class student:\n",
    "    def __init__(self):\n",
    "        print(\"First\")\n",
    "class student1:\n",
    "    def __init__(self):\n",
    "        print(\"second\")\n",
    "ob1 = student1()\n",
    "ob1"
   ]
  },
  {
   "cell_type": "code",
   "execution_count": 7,
   "id": "e26f2c2e",
   "metadata": {},
   "outputs": [],
   "source": [
    "#default constructor\n"
   ]
  },
  {
   "cell_type": "code",
   "execution_count": 23,
   "id": "083deb2e",
   "metadata": {},
   "outputs": [
    {
     "name": "stdout",
     "output_type": "stream",
     "text": [
      "object has value 10 and 20\n",
      "Add method 10\n",
      "Add method object has value 10 and 20\n",
      "Add method object has value 60 and 70\n",
      "(70, 90)\n"
     ]
    }
   ],
   "source": [
    "# operator overloading\n",
    "class AdditionObject:\n",
    "    def __init__(self,num1,num2):\n",
    "        self.num1=num1\n",
    "        self.num2=num2\n",
    "        \n",
    "    #dunder finction __repr__ change the presentation of object\n",
    "    def __repr__(self):\n",
    "        return f\"object has value {self.num1} and {self.num2}\"\n",
    "    \n",
    "    def __add__(self,obj1): #operator overloading\n",
    "        print(\"Add method\",self.num1)\n",
    "        print(\"Add method\",self)\n",
    "        print(\"Add method\",obj1)\n",
    "        x=self.num1 + obj1.num1\n",
    "        y=self.num2 + obj1.num2\n",
    "        return x,y\n",
    "a1=AdditionObject(10,20)\n",
    "a2=AdditionObject(60,70)\n",
    "\n",
    "\n",
    "print(a1)\n",
    "print(a1+a2)  #a1.__add__(a2)\n",
    "# __add__ dunder function => a1+a2 => a1.__add__(a2) we have to change the fumctionality of  __add__ dunder\n"
   ]
  },
  {
   "cell_type": "code",
   "execution_count": 26,
   "id": "ff9be845",
   "metadata": {},
   "outputs": [
    {
     "name": "stdout",
     "output_type": "stream",
     "text": [
      "\n"
     ]
    },
    {
     "data": {
      "text/plain": [
       "100"
      ]
     },
     "execution_count": 26,
     "metadata": {},
     "output_type": "execute_result"
    }
   ],
   "source": [
    "class vehicle:\n",
    "    _amount=100 #protected member\n",
    "class car(vehicle):\n",
    "    carname=\"harrier\"\n",
    "c1 = car()\n",
    "c1.carname"
   ]
  },
  {
   "cell_type": "code",
   "execution_count": 31,
   "id": "1a4a8df3",
   "metadata": {},
   "outputs": [
    {
     "data": {
      "text/plain": [
       "100"
      ]
     },
     "execution_count": 31,
     "metadata": {},
     "output_type": "execute_result"
    }
   ],
   "source": [
    "class vehicle:\n",
    "    __amount = 100  #private to the class name mangling because private memeber\n",
    "class car(vehicle):\n",
    "    carn=\"Harrier\"\n",
    "v1 = vehicle()\n",
    "v1._vehicle__amount"
   ]
  },
  {
   "cell_type": "code",
   "execution_count": 33,
   "id": "7d35e1ed",
   "metadata": {},
   "outputs": [
    {
     "name": "stdout",
     "output_type": "stream",
     "text": [
      "i have 8 legs\n",
      "user inside abstract class\n"
     ]
    }
   ],
   "source": [
    "#abstraction abstract class you can not initialize or make object of the abstrat class\n",
    "from abc import ABC,abstractclassmethod\n",
    "\n",
    "#ABC => abstract class\n",
    "class animals(ABC):\n",
    "    @abstractclassmethod   #decorator\n",
    "    def legs(self):\n",
    "        pass\n",
    "    def user(self):\n",
    "        print(\"user inside abstract class\")\n",
    "        \n",
    "class spider(animals):\n",
    "    def info(self):\n",
    "        print(\"spider class\")\n",
    "    def legs(self):\n",
    "        print(\"i have 8 legs\")\n",
    "s1= spider()\n",
    "s1.legs()\n",
    "s1.user()"
   ]
  },
  {
   "cell_type": "code",
   "execution_count": 37,
   "id": "8f1a44f1",
   "metadata": {},
   "outputs": [
    {
     "data": {
      "text/plain": [
       "[12, 22, 32]"
      ]
     },
     "execution_count": 37,
     "metadata": {},
     "output_type": "execute_result"
    }
   ],
   "source": [
    "#  For interview -\n",
    "#   collection => compulsory to read\n",
    "#  oops => inheritence , class object , method overloading vs method overriding , type of inhertence , args vs kwargs,\n",
    "#  functions vs lambda\n",
    "#  list vs tuple\n",
    "#pyhon name space\n",
    "# python scope\n",
    "# list comprehension\n",
    "# range and xrange\n",
    "#call by level and call by refference\n",
    "mylist = [10,20,30,7]\n",
    "#squared_dict= {x:x**2 for i in mylist if i%2==0}\n",
    "\n",
    "li=[i+2 for i in mylist if i%2==0]\n",
    "li"
   ]
  },
  {
   "cell_type": "code",
   "execution_count": null,
   "id": "35fdd811",
   "metadata": {},
   "outputs": [],
   "source": []
  },
  {
   "cell_type": "code",
   "execution_count": null,
   "id": "f4726983",
   "metadata": {},
   "outputs": [],
   "source": []
  }
 ],
 "metadata": {
  "kernelspec": {
   "display_name": "Python 3 (ipykernel)",
   "language": "python",
   "name": "python3"
  },
  "language_info": {
   "codemirror_mode": {
    "name": "ipython",
    "version": 3
   },
   "file_extension": ".py",
   "mimetype": "text/x-python",
   "name": "python",
   "nbconvert_exporter": "python",
   "pygments_lexer": "ipython3",
   "version": "3.11.3"
  }
 },
 "nbformat": 4,
 "nbformat_minor": 5
}

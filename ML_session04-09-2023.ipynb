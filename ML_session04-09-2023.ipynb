{
 "cells": [
  {
   "cell_type": "code",
   "execution_count": 1,
   "id": "d047cade",
   "metadata": {},
   "outputs": [
    {
     "data": {
      "text/plain": [
       "int"
      ]
     },
     "execution_count": 1,
     "metadata": {},
     "output_type": "execute_result"
    }
   ],
   "source": [
    "a = 77\n",
    "type(a)"
   ]
  },
  {
   "cell_type": "code",
   "execution_count": 2,
   "id": "7cd708b2",
   "metadata": {},
   "outputs": [
    {
     "data": {
      "text/plain": [
       "float"
      ]
     },
     "execution_count": 2,
     "metadata": {},
     "output_type": "execute_result"
    }
   ],
   "source": [
    "a=77.7\n",
    "type(a)"
   ]
  },
  {
   "cell_type": "code",
   "execution_count": 3,
   "id": "8c1d90b2",
   "metadata": {},
   "outputs": [
    {
     "data": {
      "text/plain": [
       "str"
      ]
     },
     "execution_count": 3,
     "metadata": {},
     "output_type": "execute_result"
    }
   ],
   "source": [
    "a=\"Hello\"\n",
    "type(a)"
   ]
  },
  {
   "cell_type": "code",
   "execution_count": 10,
   "id": "f51eaac7",
   "metadata": {},
   "outputs": [
    {
     "name": "stdout",
     "output_type": "stream",
     "text": [
      "<class 'bool'>\n",
      "False\n"
     ]
    }
   ],
   "source": [
    "a=10\n",
    "b=20\n",
    "print(type(a>b))\n",
    "print(a>b)"
   ]
  },
  {
   "cell_type": "code",
   "execution_count": 7,
   "id": "04d80dbf",
   "metadata": {},
   "outputs": [
    {
     "name": "stdout",
     "output_type": "stream",
     "text": [
      "47\n"
     ]
    }
   ],
   "source": [
    "a = 47.7\n",
    "b = int(a)\n",
    "print(b)"
   ]
  },
  {
   "cell_type": "code",
   "execution_count": 11,
   "id": "531597a5",
   "metadata": {},
   "outputs": [
    {
     "name": "stdout",
     "output_type": "stream",
     "text": [
      "Enter first number :10\n",
      "Enter second number :20\n",
      "1020\n"
     ]
    }
   ],
   "source": [
    "#input\n",
    "a=input(\"Enter first number :\")\n",
    "b=input(\"Enter second number :\")\n",
    "print(a+b)"
   ]
  },
  {
   "cell_type": "code",
   "execution_count": 14,
   "id": "a128542e",
   "metadata": {},
   "outputs": [
    {
     "name": "stdout",
     "output_type": "stream",
     "text": [
      "Enter first number :10\n",
      "Enter second number :20\n",
      "30\n"
     ]
    }
   ],
   "source": [
    "#input\n",
    "a=int(input(\"Enter first number :\"))\n",
    "b=int(input(\"Enter second number :\"))\n",
    "print(a+b)"
   ]
  },
  {
   "cell_type": "code",
   "execution_count": 16,
   "id": "2f6209ee",
   "metadata": {},
   "outputs": [
    {
     "name": "stdout",
     "output_type": "stream",
     "text": [
      "Enter : Bad\n",
      "No\n"
     ]
    }
   ],
   "source": [
    "a = input(\"Enter : \")\n",
    "if(a==\"Good\"):\n",
    "    print(\"Yes\")\n",
    "elif(a==\"Bad\"):\n",
    "    print(\"No\")\n",
    "else:\n",
    "    print(\"Wrong Entry!!1\")"
   ]
  },
  {
   "cell_type": "code",
   "execution_count": 17,
   "id": "e6fb260c",
   "metadata": {},
   "outputs": [
    {
     "name": "stdout",
     "output_type": "stream",
     "text": [
      "Enter Your dish : Matarpanner\n",
      "Matarpanner will be ready in 10 min\n"
     ]
    }
   ],
   "source": [
    "ch = input(\"Enter Your dish : \")\n",
    "if(ch==\"DalBati\"):\n",
    "    print(\"DalBati will be ready in 5 min\")\n",
    "elif(ch==\"Matarpanner\"):\n",
    "    print(\"Matarpanner will be ready in 10 min\")\n",
    "elif(ch==\"springroll\"):\n",
    "    print(\"Springroll will be ready in 5 min\")\n",
    "else:\n",
    "    print(\"Sorry not in the menu!!!!\")\n"
   ]
  },
  {
   "cell_type": "code",
   "execution_count": 29,
   "id": "232ae906",
   "metadata": {},
   "outputs": [
    {
     "name": "stdout",
     "output_type": "stream",
     "text": [
      "Enter your Yummy item name : Pizza\n",
      "Enter item price300\n",
      "Enter Quantity :2\n",
      "Your yummy item is Pizza and quantity 2 and total price is : 600\n",
      "Pizza Combo is added to you cart\n",
      "Combo Details : 2 CocaCola and extra Oregano\n"
     ]
    }
   ],
   "source": [
    "class Dominos:\n",
    "    def __init__(self , itemname , price , quantity):\n",
    "        self.item = itemname\n",
    "        self.price = price\n",
    "        self.quantity = quantity\n",
    "        \n",
    "    def getinfo(self):\n",
    "        print(f\"Your yummy item is {self.item} and quantity {self.quantity} and total price is : {self.quantity*self.price}\")\n",
    "    \n",
    "    def getdiscount(self): \n",
    "        total = self.quantity*self.price\n",
    "        if(total >= 1000 and total<5000):\n",
    "            disc= (total * 10)/100\n",
    "            discPrice = total - disc\n",
    "            print(f\"For purchase of total Price : {total} You will get dicount of 10% \\n Disounted total Price :{discPrice}\")\n",
    "        elif(total >= 5000 and total<10000):\n",
    "            disc= (total * 15)/100\n",
    "            discPrice = total - disc\n",
    "            print(f\"For purchase of total Price : {total} You will get dicount of 15% \\n Disounted total Price :{discPrice}\")\n",
    "        elif(total >= 10000):\n",
    "            disc= (total * 30)/100\n",
    "            discPrice = total - disc\n",
    "            print(f\"For purchase of total Price : {total} You will get dicount of 30% \\n Disounted total Price :{discPrice}\")\n",
    "    def getcombo(self):\n",
    "        if(self.item == \"Pizza\" and self.quantity>=2):\n",
    "            print(\"Pizza Combo is added to you cart\\nCombo Details : 12 CocaCola and extra Oregano\")\n",
    "        \n",
    "        elif(self.item == \"Burger\" and self.quantity>=3):\n",
    "            print(\"Burger Combo is added to you cart\\nCombo Details : 3 CocaCola and Half French fries\")\n",
    "            \n",
    "        elif(self.item == \"Noodles\" and self.quantity>=1):\n",
    "            print(\"Noodles Combo is added to you cart\\nCombo Details : 1 CocaCola\")\n",
    "        \n",
    "ob = Dominos(input(\"Enter your Yummy item name : \"), int(input(\"Enter item price :\")), int(input(\"Enter Quantity :\")))\n",
    "ob.getinfo()\n",
    "ob.getcombo()\n",
    "ob.getdiscount()\n",
    "        "
   ]
  },
  {
   "cell_type": "code",
   "execution_count": null,
   "id": "ffa8927a",
   "metadata": {},
   "outputs": [],
   "source": []
  }
 ],
 "metadata": {
  "kernelspec": {
   "display_name": "Python 3 (ipykernel)",
   "language": "python",
   "name": "python3"
  },
  "language_info": {
   "codemirror_mode": {
    "name": "ipython",
    "version": 3
   },
   "file_extension": ".py",
   "mimetype": "text/x-python",
   "name": "python",
   "nbconvert_exporter": "python",
   "pygments_lexer": "ipython3",
   "version": "3.11.3"
  }
 },
 "nbformat": 4,
 "nbformat_minor": 5
}

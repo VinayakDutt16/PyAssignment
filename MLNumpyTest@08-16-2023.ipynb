{
 "cells": [
  {
   "cell_type": "code",
   "execution_count": 1,
   "id": "b7afc3be",
   "metadata": {},
   "outputs": [],
   "source": [
    "# Q.1 What is Numpy ?\n",
    "#Numpy is python's open source library which deals with multi-dimensional arrays and matrices , random functions\n"
   ]
  },
  {
   "cell_type": "code",
   "execution_count": 2,
   "id": "971ba9da",
   "metadata": {},
   "outputs": [],
   "source": [
    "# Q.2 Difference between List and arrays?\n",
    "# List contains different type of data-type on the other hand arrays contains the values of same Data-type"
   ]
  },
  {
   "cell_type": "code",
   "execution_count": 5,
   "id": "965b04fd",
   "metadata": {},
   "outputs": [
    {
     "name": "stdout",
     "output_type": "stream",
     "text": [
      "Enter the size of your array : 5\n",
      "Enter element 10\n",
      "Enter element 20\n",
      "Enter element 30\n",
      "Enter element 40\n",
      "Enter element 50\n"
     ]
    },
    {
     "data": {
      "text/plain": [
       "array([10, 20, 30, 40, 50])"
      ]
     },
     "execution_count": 5,
     "metadata": {},
     "output_type": "execute_result"
    }
   ],
   "source": [
    "# Q.3 How do you create a Numpy array with an python user-defined list?\n",
    "import numpy as np\n",
    "li = []\n",
    "size = int(input(\"Enter the size of your array : \"))\n",
    "for i in range(size):\n",
    "    v = int(input(\"Enter element \"))\n",
    "    li.append(v)\n",
    "li\n",
    "arr = np.array(li)\n",
    "arr"
   ]
  },
  {
   "cell_type": "code",
   "execution_count": 11,
   "id": "cd894dba",
   "metadata": {},
   "outputs": [
    {
     "data": {
      "text/plain": [
       "array([0., 0., 0., 0., 0.])"
      ]
     },
     "execution_count": 11,
     "metadata": {},
     "output_type": "execute_result"
    }
   ],
   "source": [
    "# Q.4 How can you generate array filled with zeros and random values in the numpy\n",
    "# Array with zeros\n",
    "a = np.zeros(5)\n",
    "a"
   ]
  },
  {
   "cell_type": "code",
   "execution_count": 10,
   "id": "10b5d19e",
   "metadata": {},
   "outputs": [
    {
     "data": {
      "text/plain": [
       "array([1., 1., 1., 1., 1.])"
      ]
     },
     "execution_count": 10,
     "metadata": {},
     "output_type": "execute_result"
    }
   ],
   "source": [
    "b = np.ones(5)\n",
    "b"
   ]
  },
  {
   "cell_type": "code",
   "execution_count": 12,
   "id": "84196614",
   "metadata": {},
   "outputs": [
    {
     "data": {
      "text/plain": [
       "array([12,  6, 17,  3, 19, 12,  6,  2,  9,  4, 10, 19, 10, 13,  3])"
      ]
     },
     "execution_count": 12,
     "metadata": {},
     "output_type": "execute_result"
    }
   ],
   "source": [
    "c = np.random.randint(1,20,15)\n",
    "c"
   ]
  },
  {
   "cell_type": "code",
   "execution_count": 17,
   "id": "6fd391d1",
   "metadata": {},
   "outputs": [
    {
     "data": {
      "text/plain": [
       "(2, 4)"
      ]
     },
     "execution_count": 17,
     "metadata": {},
     "output_type": "execute_result"
    }
   ],
   "source": [
    "# Q.4 What is the shape of numpy arrays?\n",
    "a = np.array([[1,2,3,4],[5,6,7,8]])\n",
    "a.shape # It give the output of the the row of column in the array"
   ]
  },
  {
   "cell_type": "code",
   "execution_count": 69,
   "id": "84a1e8fd",
   "metadata": {},
   "outputs": [
    {
     "data": {
      "text/plain": [
       "array([[1, 2],\n",
       "       [3, 4]])"
      ]
     },
     "execution_count": 69,
     "metadata": {},
     "output_type": "execute_result"
    }
   ],
   "source": [
    "# Q.5 How do we perform element wise add,subtraction,division,multiplication in numpy arrays\n",
    "a = np.array([1,2,3,4]).reshape(2,2)\n",
    "b = np.array([5,6,7,8]).reshape(2,2)\n",
    "a\n"
   ]
  },
  {
   "cell_type": "code",
   "execution_count": 70,
   "id": "184f4d5c",
   "metadata": {},
   "outputs": [
    {
     "data": {
      "text/plain": [
       "array([[ 6,  8],\n",
       "       [10, 12]])"
      ]
     },
     "execution_count": 70,
     "metadata": {},
     "output_type": "execute_result"
    }
   ],
   "source": [
    "a+b"
   ]
  },
  {
   "cell_type": "code",
   "execution_count": 71,
   "id": "dc016e3a",
   "metadata": {},
   "outputs": [
    {
     "data": {
      "text/plain": [
       "array([[-4, -4],\n",
       "       [-4, -4]])"
      ]
     },
     "execution_count": 71,
     "metadata": {},
     "output_type": "execute_result"
    }
   ],
   "source": [
    "a-b"
   ]
  },
  {
   "cell_type": "code",
   "execution_count": 72,
   "id": "6260179b",
   "metadata": {},
   "outputs": [
    {
     "data": {
      "text/plain": [
       "array([[ 5, 12],\n",
       "       [21, 32]])"
      ]
     },
     "execution_count": 72,
     "metadata": {},
     "output_type": "execute_result"
    }
   ],
   "source": [
    "a*b"
   ]
  },
  {
   "cell_type": "code",
   "execution_count": 27,
   "id": "3f478da6",
   "metadata": {},
   "outputs": [
    {
     "data": {
      "text/plain": [
       "array([10,  0,  0,  0, 50, 60])"
      ]
     },
     "execution_count": 27,
     "metadata": {},
     "output_type": "execute_result"
    }
   ],
   "source": [
    "# Q.6 Explain the concept of slicing in the numpy arrays?\n",
    "a = np.array([10,20,30,40,50,60])\n",
    "b = a[1:4] #Slicing from the orginal array and the assigning it to b\n",
    "b #but if we make change in the b it will also reflect back in the original array\n",
    "b[:]=0\n",
    "a\n",
    "# To counter this we need to use copy function\n",
    "# b = a[1:4].copy() It will make a copy of the values in the b and any changes in the b will not be reflected back in a"
   ]
  },
  {
   "cell_type": "code",
   "execution_count": 33,
   "id": "916e220c",
   "metadata": {},
   "outputs": [
    {
     "data": {
      "text/plain": [
       "array([[10, 20],\n",
       "       [30, 40],\n",
       "       [50, 60]])"
      ]
     },
     "execution_count": 33,
     "metadata": {},
     "output_type": "execute_result"
    }
   ],
   "source": [
    "# Q.7 How can you reshape a array\n",
    "# have to you use reshape() function\n",
    "a = np.array([10,20,30,40,50,60])\n",
    "a\n",
    "a.reshape(3,2)\n"
   ]
  },
  {
   "cell_type": "code",
   "execution_count": 35,
   "id": "c21334fe",
   "metadata": {},
   "outputs": [
    {
     "data": {
      "text/plain": [
       "array([[ 1,  2,  3,  4,  9, 10, 11, 12],\n",
       "       [ 5,  6,  7,  8, 13, 14, 15, 16]])"
      ]
     },
     "execution_count": 35,
     "metadata": {},
     "output_type": "execute_result"
    }
   ],
   "source": [
    "# Q.8 How can you Concatenate Two np arrays  horizontelly and vertically\n",
    "\n",
    "a = np.array([[1,2,3,4],[5,6,7,8]])\n",
    "b = np.array([[9,10,11,12],[13,14,15,16]])\n",
    "np.hstack((a,b)) #Horizontly "
   ]
  },
  {
   "cell_type": "code",
   "execution_count": 36,
   "id": "411319ee",
   "metadata": {},
   "outputs": [
    {
     "data": {
      "text/plain": [
       "array([[ 1,  2,  3,  4],\n",
       "       [ 5,  6,  7,  8],\n",
       "       [ 9, 10, 11, 12],\n",
       "       [13, 14, 15, 16]])"
      ]
     },
     "execution_count": 36,
     "metadata": {},
     "output_type": "execute_result"
    }
   ],
   "source": [
    "np.vstack((a,b)) #vertically "
   ]
  },
  {
   "cell_type": "code",
   "execution_count": 5,
   "id": "3841c41e",
   "metadata": {},
   "outputs": [
    {
     "data": {
      "text/plain": [
       "10"
      ]
     },
     "execution_count": 5,
     "metadata": {},
     "output_type": "execute_result"
    }
   ],
   "source": [
    "# Q.9 How do you find min, max , mean , standard - deviation of an numpy array\n",
    "\n",
    "a = np.array([10,20,30,40,50,60])\n",
    "np.min(a)\n"
   ]
  },
  {
   "cell_type": "code",
   "execution_count": 6,
   "id": "180b4be9",
   "metadata": {},
   "outputs": [
    {
     "data": {
      "text/plain": [
       "60"
      ]
     },
     "execution_count": 6,
     "metadata": {},
     "output_type": "execute_result"
    }
   ],
   "source": [
    "np.max(a)"
   ]
  },
  {
   "cell_type": "code",
   "execution_count": 7,
   "id": "fe9c95ed",
   "metadata": {},
   "outputs": [
    {
     "data": {
      "text/plain": [
       "35.0"
      ]
     },
     "execution_count": 7,
     "metadata": {},
     "output_type": "execute_result"
    }
   ],
   "source": [
    "# mean \n",
    "np.mean(a)\n",
    "# to learn"
   ]
  },
  {
   "cell_type": "code",
   "execution_count": 9,
   "id": "68513928",
   "metadata": {},
   "outputs": [
    {
     "data": {
      "text/plain": [
       "17.07825127659933"
      ]
     },
     "execution_count": 9,
     "metadata": {},
     "output_type": "execute_result"
    }
   ],
   "source": [
    " # Standard Deviation\n",
    "np.std(a)"
   ]
  },
  {
   "cell_type": "code",
   "execution_count": 6,
   "id": "29c44384",
   "metadata": {},
   "outputs": [
    {
     "name": "stdout",
     "output_type": "stream",
     "text": [
      "[ 60  80 100 120]\n"
     ]
    }
   ],
   "source": [
    "# Q.10 What are universal function in numpy and why they are important?\n",
    "# ufuncs stands for \"Universal Functions\" and they are NumPy functions that operate on the ndarray object.\n",
    "# ufuncs are used to implement vectorization in NumPy which is way faster than iterating over elements.\n",
    "# They also provide broadcasting and additional methods like reduce, accumulate etc. that are very helpful for computation.\n",
    "# ufuncs also take additional arguments, like:\n",
    "\n",
    "# where boolean array or condition defining where the operations should take place.\n",
    "\n",
    "# dtype defining the return type of elements.\n",
    "\n",
    "# out output array where the return value should be copied.\n",
    "# vetcorization : Converting iterative statements into a vector based operation is called vectorization.\n",
    "\n",
    "a = [10,20,30,40]\n",
    "b = [50,60,70,80]\n",
    "c = np.add(a,b)\n",
    "print(c)\n",
    "\n",
    "\n"
   ]
  },
  {
   "cell_type": "code",
   "execution_count": 44,
   "id": "8448f605",
   "metadata": {},
   "outputs": [
    {
     "data": {
      "text/plain": [
       "array([False, False, False, False, False,  True,  True,  True,  True,\n",
       "        True,  True,  True,  True,  True,  True,  True,  True,  True,\n",
       "        True,  True])"
      ]
     },
     "execution_count": 44,
     "metadata": {},
     "output_type": "execute_result"
    }
   ],
   "source": [
    "# Q.11 Explain how can you perform element wise comparision in boolean indexing in numpy arrays\n",
    "\n",
    "a = np.arange(1,21)\n",
    "a>5"
   ]
  },
  {
   "cell_type": "code",
   "execution_count": 45,
   "id": "afacbf12",
   "metadata": {},
   "outputs": [
    {
     "data": {
      "text/plain": [
       "array([ True,  True,  True,  True,  True,  True,  True,  True,  True,\n",
       "       False, False, False, False, False, False, False, False, False,\n",
       "       False, False])"
      ]
     },
     "execution_count": 45,
     "metadata": {},
     "output_type": "execute_result"
    }
   ],
   "source": [
    "a<10"
   ]
  },
  {
   "cell_type": "code",
   "execution_count": 46,
   "id": "f2c04fa0",
   "metadata": {},
   "outputs": [
    {
     "data": {
      "text/plain": [
       "array([False,  True, False,  True, False,  True, False,  True, False,\n",
       "        True, False,  True, False,  True, False,  True, False,  True,\n",
       "       False,  True])"
      ]
     },
     "execution_count": 46,
     "metadata": {},
     "output_type": "execute_result"
    }
   ],
   "source": [
    "a%2 == 0"
   ]
  },
  {
   "cell_type": "code",
   "execution_count": 47,
   "id": "394946da",
   "metadata": {},
   "outputs": [],
   "source": [
    "# Q.12 What are some practical use of numpy \n",
    "# To store the data in array on matrix format so we can easily perform multiple operation at once\n",
    "# and it has many built in mathematical functions that can be used in data science and machine learning"
   ]
  },
  {
   "cell_type": "code",
   "execution_count": 48,
   "id": "67c88aeb",
   "metadata": {},
   "outputs": [],
   "source": [
    "# Q.13 How can you handle missing values in numpy arrays\n",
    "# The missing data representation, NaN (acronym for Not a Number), is different; it is a special loating-point value recognized \n",
    "# by all systems that use the standard IEEE floating-point representation:"
   ]
  },
  {
   "cell_type": "code",
   "execution_count": 49,
   "id": "53447803",
   "metadata": {},
   "outputs": [],
   "source": [
    "# Q.14 Differntiate between normal set and frozen set\n",
    "# A frozenset is an unordered and unindexed collection of unique elements. It is immutable and it is hashable.\n",
    "# It is also called an immutable set. Since the elements are fixed, unlike sets you can't add or remove elements from the set.\n",
    "# Frozensets are hashable, you can use the elements as a dictionary key or as an element from another set. \n",
    "# frozensets are represented by the built-in function which is frozenset(). \n",
    "# It returns an empty set if there are no elements present in it. \n",
    "\n",
    "# A set is an unordered and unindexed collection of unique elements. \n",
    "# Sets are mutable, you can change the elements using a built-in function like add(), remove(), etc. \n",
    "# Since the elements are mutable and not in order, they don’t have hash values. \n",
    "# So you can’t access the elements with the help of index numbers.\n",
    "\n"
   ]
  },
  {
   "cell_type": "code",
   "execution_count": 50,
   "id": "071df643",
   "metadata": {},
   "outputs": [],
   "source": [
    "# Q.15 Differntiate between Python2 and Python3\n",
    "\n",
    "# 1. In Python 2 there is not necessary to put parenthesis in print but in python 3 it copulsory to use\n",
    "\n",
    "# 2. Python 2 uses ASCII code but python 3 uses Unicode\n",
    "\n",
    "#3. Python 3 have range function but python 2 doesn't have range function"
   ]
  },
  {
   "cell_type": "code",
   "execution_count": 52,
   "id": "d0e32f30",
   "metadata": {},
   "outputs": [],
   "source": [
    "# Q.16 What are Primitive Data-type in python\n",
    " \n",
    "# Primitive Data type in python are int, string , float, bool."
   ]
  },
  {
   "cell_type": "code",
   "execution_count": 85,
   "id": "ca8498c0",
   "metadata": {},
   "outputs": [
    {
     "name": "stdout",
     "output_type": "stream",
     "text": [
      "Enter the size of ur input5\n",
      "Enter : 1\n",
      "Enter : 2\n",
      "Enter : 3\n",
      "Enter : 4\n",
      "Enter : 5\n",
      "54321"
     ]
    }
   ],
   "source": [
    "# Q.17 Create a user defined loop who will reverse a user i/p\n",
    "li = []\n",
    "size =  int(input(\"Enter the size of ur input\"))\n",
    "for i in range(size):\n",
    "    a = input(\"Enter : \")\n",
    "    li.append(a)\n",
    "ar = np.array(li)\n",
    "i=size-1\n",
    "while(i>=0):\n",
    "    print(ar[i],end= \"\")\n",
    "    i-=1"
   ]
  },
  {
   "cell_type": "code",
   "execution_count": 20,
   "id": "64c86ab0",
   "metadata": {},
   "outputs": [
    {
     "name": "stdout",
     "output_type": "stream",
     "text": [
      "Enter your texthello\n",
      "olleh\n"
     ]
    }
   ],
   "source": [
    "li = []\n",
    "arr = input(\"Enter your text\")\n",
    "size = len(arr)\n",
    "st = arr[size::-1]\n",
    "print(st)"
   ]
  },
  {
   "cell_type": "markdown",
   "id": "6f5c7b00",
   "metadata": {},
   "source": []
  },
  {
   "cell_type": "code",
   "execution_count": 1,
   "id": "3669d643",
   "metadata": {},
   "outputs": [
    {
     "data": {
      "text/plain": [
       "['Hello', 'how', 'are', 'you']"
      ]
     },
     "execution_count": 1,
     "metadata": {},
     "output_type": "execute_result"
    }
   ],
   "source": [
    "# Q.18 What is the difference between strip and split in a string\n",
    "# Strip => this method removes the character(s) passed by argument (or white spaces if no argument is passed)\n",
    "# from the beginning and from the end of a string.\n",
    "text = \"Hello how are you\"\n",
    "text.split()\n",
    "# Split => This method splits the input string into a list of strings. You can pass arguments too, known as delimiters. \n",
    "# If you don’t pass any parameter, it will split using the default delimiter - space"
   ]
  },
  {
   "cell_type": "code",
   "execution_count": 2,
   "id": "a0fbf3a9",
   "metadata": {},
   "outputs": [
    {
     "name": "stdout",
     "output_type": "stream",
     "text": [
      "12\n"
     ]
    }
   ],
   "source": [
    "#  Q.19 Difference between isalnum(), isdigit() and find() in python string\n",
    "# isalpha() => Give True if all characters in the string are alphanumeric and the string is not empty\n",
    "# isdigit() => True if all characters in the string are digits and the string is not empty\n",
    "# find() => method finds the first occurrence of the specified value\n",
    "# The find() method returns -1 if the value is not found.\n",
    "txt = \"Hello it is nice to meet you\"\n",
    "val = txt.find(\"nice\")\n",
    "print(val)"
   ]
  },
  {
   "cell_type": "code",
   "execution_count": 3,
   "id": "aad4ffc6",
   "metadata": {},
   "outputs": [
    {
     "data": {
      "text/plain": [
       "'Tuples are used to store heterogeneous and homogeneous data.\\nTuples are immutable in nature.\\nTuples are ordered\\nAn index is used to traverse a tuple.\\nTuples are similar to lists. It also preserves the data sequence.\\nAs tuples are immutable, they are faster than the list because they are static'"
      ]
     },
     "execution_count": 3,
     "metadata": {},
     "output_type": "execute_result"
    }
   ],
   "source": [
    "# Q.20 What is the difference between list and tuple\n",
    "# List =>\n",
    "'''You can use Python lists to store data of multiple types simultaneously.\n",
    "Lists help preserve data sequences and further process those sequences in other ways. \n",
    "Lists are dynamic.\n",
    "Lists are mutable.\n",
    "Lists are ordered.\n",
    "An index is used to traverse a list.\n",
    "'''\n",
    "# Tuple =>\n",
    "'''Tuples are used to store heterogeneous and homogeneous data.\n",
    "Tuples are immutable in nature.\n",
    "Tuples are ordered\n",
    "An index is used to traverse a tuple.\n",
    "Tuples are similar to lists. It also preserves the data sequence.\n",
    "As tuples are immutable, they are faster than the list because they are static'''"
   ]
  },
  {
   "cell_type": "code",
   "execution_count": 24,
   "id": "aa80af9e",
   "metadata": {},
   "outputs": [
    {
     "name": "stdout",
     "output_type": "stream",
     "text": [
      "[]\n"
     ]
    }
   ],
   "source": [
    "# Q.21 Create a list of tuple represents a student name and there corresponding score in 3 subject. \n",
    "# Write a function that take a list as input and return a new list containing only the students who have the average score\n",
    "# greater than 80\n",
    "\n",
    "student = [(\"Dhoni\",70,50,90),(\"Virat\",70,20,40),(\"Bumrah\",60,10,10)]\n",
    "def score():\n",
    "    i=0\n",
    "    a = []\n",
    "    li = []\n",
    "    while(i>3):\n",
    "        a[i] = student[i][1]+student[i][2]+student[i][3] \n",
    "        print(a[0])\n",
    "        if(a[i]>80):\n",
    "            li.append(a[i])\n",
    "        i+=1    \n",
    "    return li\n",
    "ans = score()\n",
    "print(ans)\n",
    "\n",
    "\n"
   ]
  },
  {
   "cell_type": "code",
   "execution_count": null,
   "id": "72aebdbf",
   "metadata": {},
   "outputs": [],
   "source": []
  }
 ],
 "metadata": {
  "kernelspec": {
   "display_name": "Python 3 (ipykernel)",
   "language": "python",
   "name": "python3"
  },
  "language_info": {
   "codemirror_mode": {
    "name": "ipython",
    "version": 3
   },
   "file_extension": ".py",
   "mimetype": "text/x-python",
   "name": "python",
   "nbconvert_exporter": "python",
   "pygments_lexer": "ipython3",
   "version": "3.11.3"
  }
 },
 "nbformat": 4,
 "nbformat_minor": 5
}

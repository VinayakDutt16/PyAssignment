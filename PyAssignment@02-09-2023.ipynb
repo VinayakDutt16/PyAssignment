{
 "cells": [
  {
   "cell_type": "code",
   "execution_count": 7,
   "id": "047b572d",
   "metadata": {},
   "outputs": [
    {
     "name": "stdout",
     "output_type": "stream",
     "text": [
      "Id : 101 \n",
      "Name : Tushar sir \n",
      "Mail : python@gmail.com \n",
      "Age : 30\n",
      "Id : 1 \n",
      "Name : Vinayak \n",
      "Mail : vinayak16@gmail.com \n",
      "Age : 22\n"
     ]
    }
   ],
   "source": [
    "#multilevel ineritence : When a derived class inherits another derived class\n",
    "class school:\n",
    "    def __init__(self,id,name,mail):\n",
    "        self.id = id\n",
    "        self.name = name\n",
    "        self.mail = mail\n",
    "    def info(self):\n",
    "        print(\"Id :\",self.id,\"\\nName :\",self.name,\"\\nMail :\",self.mail,\"\\nAge :\",self.tage)\n",
    "class teacher(school):\n",
    "    def __init__(self,tid,tname,tmail,tage):\n",
    "        super().__init__(tid,tname,tmail)\n",
    "        self.tage = tage\n",
    "class student(teacher):\n",
    "    def __init__(self,sid,sname,smail,sage):\n",
    "        super().__init__(sid,sname,smail,sage)\n",
    "        \n",
    "t1 = teacher(101,\"Tushar sir\",\"python@gmail.com\",\"30\")\n",
    "s1 = student(1,\"Vinayak\",\"vinayak16@gmail.com\",\"22\")\n",
    "\n",
    "t1.info()\n",
    "s1.info()"
   ]
  },
  {
   "cell_type": "code",
   "execution_count": 25,
   "id": "85f9d877",
   "metadata": {},
   "outputs": [
    {
     "name": "stdout",
     "output_type": "stream",
     "text": [
      "Results :\n",
      " 100+50=150\n",
      " 100-50=50\n",
      " 100*50=5000\n",
      " 100/50=2.0\n",
      "\n"
     ]
    }
   ],
   "source": [
    "#multiple inheritence : When a class is derrived from more than one base class\n",
    "class addition:\n",
    "    def add(self,a,b):\n",
    "        return a+b\n",
    "class subtraction:\n",
    "    def sub(self,a,b):\n",
    "        return a-b\n",
    "class multiplication:\n",
    "    def multi(self,a,b):\n",
    "        return a*b\n",
    "class division:\n",
    "    def divi(self,a,b):\n",
    "        return a/b\n",
    "class ArithOp(addition,subtraction,multiplication,division):\n",
    "    def res(self,a,b):\n",
    "        print(\"Results :\\n {}+{}={}\\n\".format(a,b,self.add(a,b)),\"{}-{}={}\\n\".format(a,b,self.sub(a,b)),\"{}*{}={}\\n\".format(a,b,self.multi(a,b)),\"{}/{}={}\\n\".format(a,b,self.divi(a,b)))\n",
    "ob1 = ArithOp()\n",
    "ob1.res(100,50)"
   ]
  },
  {
   "cell_type": "code",
   "execution_count": 27,
   "id": "da521ffb",
   "metadata": {},
   "outputs": [
    {
     "name": "stdout",
     "output_type": "stream",
     "text": [
      "11\n",
      "3\n",
      "2\n"
     ]
    }
   ],
   "source": [
    "#polymorphism means having different forms, it means same function name being used for different types\n",
    "print(len(\"Hello world\"))\n",
    "print(len([\"hi\",\"python\",\"language\"]))\n",
    "print(len({\"Name\": \"vinayak\",\"Address\":\"jaipur\"}))\n",
    "#len function is capable of running with multiple data type like string , list, tuple"
   ]
  },
  {
   "cell_type": "code",
   "execution_count": null,
   "id": "370714dc",
   "metadata": {},
   "outputs": [],
   "source": [
    "#data encapsulation describes the idea of wrapping data and the methods that work on data within one unit.\n",
    "#This puts restrictions on accessing variables and methods directly and can prevent the accidental modification of data.\n"
   ]
  }
 ],
 "metadata": {
  "kernelspec": {
   "display_name": "Python 3 (ipykernel)",
   "language": "python",
   "name": "python3"
  },
  "language_info": {
   "codemirror_mode": {
    "name": "ipython",
    "version": 3
   },
   "file_extension": ".py",
   "mimetype": "text/x-python",
   "name": "python",
   "nbconvert_exporter": "python",
   "pygments_lexer": "ipython3",
   "version": "3.11.3"
  }
 },
 "nbformat": 4,
 "nbformat_minor": 5
}

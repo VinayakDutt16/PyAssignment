{
 "cells": [
  {
   "cell_type": "code",
   "execution_count": 6,
   "id": "f14af8d3",
   "metadata": {},
   "outputs": [
    {
     "name": "stdout",
     "output_type": "stream",
     "text": [
      "1024\n"
     ]
    }
   ],
   "source": [
    "'''Q2 Create a function to take 2 value and check the datatype\n",
    "- It the data type is int then\n",
    "    create the number raise to power of second number and return the value\n",
    "'''\n",
    "\n",
    "def func(n1,n2):\n",
    "    if(type(n1) == int and type(n2) == int ):\n",
    "        return n1**n2\n",
    "res=func(2,10)\n",
    "print(res)"
   ]
  },
  {
   "cell_type": "code",
   "execution_count": 17,
   "id": "6cfc2111",
   "metadata": {},
   "outputs": [
    {
     "name": "stdout",
     "output_type": "stream",
     "text": [
      "Enter the String :vinayak dutt a e i ae\n",
      "List of enterd string ['vinayak', 'dutt', 'a', 'e', 'i', 'ae']\n",
      "['vinayak', 'dutt', 'ae']\n"
     ]
    }
   ],
   "source": [
    "'''Create a function taking a string as a input\n",
    "    if the word in the string contain any vowel remove that word from\n",
    "the string\n",
    "'''\n",
    "                    #Not complete to ask\n",
    "def chk(st):\n",
    "    nli = []\n",
    "    li = st.split() # it will make a list from the string\n",
    "    print(\"List of enterd string\",li)\n",
    "    j= ('a','e','i','o','u','A','E','I','O','U')\n",
    "    for i in range(0,len(li),1):\n",
    "        if li[i] not in j:\n",
    "            nli.append(li[i])\n",
    "    print(nli)\n",
    "\n",
    "\n",
    "st=input(\"Enter the String :\")\n",
    "chk(st)    \n",
    "     "
   ]
  },
  {
   "cell_type": "code",
   "execution_count": 7,
   "id": "b63fc0b1",
   "metadata": {},
   "outputs": [
    {
     "name": "stdout",
     "output_type": "stream",
     "text": [
      "Enter the string :hello how are you\n",
      "hello how are you\n"
     ]
    }
   ],
   "source": [
    "'''Q4 Take a input as string if the word contain letter \"a\" and \"e\" then adding \"ing\"\n",
    "in the last of the word otherwise add letter \"RA\" at the starting of the word'''\n",
    "a=\"RA\"\n",
    "st = input(\"Enter the string :\")\n",
    "for i in range(len(st)):\n",
    "    if(st[i]=='a' and st[i]=='e'):\n",
    "        st[i]=st[i]+\"ing\"\n",
    "    else:                    #not complete to ask\n",
    "        \"RA\".join(st[i])\n",
    "\n",
    "print(st)\n"
   ]
  },
  {
   "cell_type": "code",
   "execution_count": 52,
   "id": "6050894c",
   "metadata": {},
   "outputs": [
    {
     "name": "stdout",
     "output_type": "stream",
     "text": [
      "****\n",
      "*  *\n",
      "*  *\n",
      "****\n",
      "    *\n",
      "   * *\n",
      "  * * *\n",
      " * * * *\n"
     ]
    }
   ],
   "source": [
    "# Q5 create square and pyramid\n",
    "# for square->\n",
    "i=1\n",
    "while(i<=4):\n",
    "    j=1\n",
    "    while(j<=4):\n",
    "        if(i==1 or i==4 or j==1 or j==4):\n",
    "            print(\"*\",end=\"\")\n",
    "        else:\n",
    "            print(\" \",end=\"\")\n",
    "        j+=1\n",
    "    print(\"\")\n",
    "    i+=1\n",
    "# for pyramid->\n",
    "\n",
    "i=1\n",
    "while(i<=4):\n",
    "    s=3\n",
    "    while(s>=i):\n",
    "        print(\" \",end=\"\")\n",
    "        s-=1\n",
    "    j=1\n",
    "    while(j<=i):\n",
    "        print(\" *\",end=\"\")\n",
    "        j+=1\n",
    "    print(\"\")\n",
    "    i+=1"
   ]
  },
  {
   "cell_type": "code",
   "execution_count": 66,
   "id": "95c78bf0",
   "metadata": {},
   "outputs": [
    {
     "name": "stdout",
     "output_type": "stream",
     "text": [
      "Enter first Number:54\n",
      "Enter second Number:24\n",
      "LCM of 54 and 24 is 216\n"
     ]
    }
   ],
   "source": [
    "'''Q6 Take 2 input from the user as parameter and find it's LCM of two numbers\n",
    "    And return the LCM of both the numbers\n",
    "    3,5'''\n",
    "def lcm(n1,n2):\n",
    "    if(n1>n2):\n",
    "        m=n1\n",
    "    else:\n",
    "        m=n2\n",
    "    while(1):\n",
    "        if(m%n1==0 and m%n2==0):\n",
    "            res=m\n",
    "            break\n",
    "        m+=1\n",
    "    return res\n",
    "n1=int(input(\"Enter first Number:\"))\n",
    "n2=int(input(\"Enter second Number:\"))\n",
    "print(\"LCM of\",n1,\"and\",n2,\"is\",lcm\n",
    "      (n1,n2))"
   ]
  },
  {
   "cell_type": "code",
   "execution_count": 68,
   "id": "ff6f477b",
   "metadata": {},
   "outputs": [
    {
     "name": "stdout",
     "output_type": "stream",
     "text": [
      "Enter first Number:30\n",
      "Enter second Number:14\n",
      "HCF of 30 and 14 is 2\n"
     ]
    }
   ],
   "source": [
    "'''Q7 Find the HCF of two number and return the value\n",
    "'''\n",
    "def hcf(n1,n2):\n",
    "    if(n1>n2):\n",
    "        snum=n2\n",
    "    else:\n",
    "        snum=n1\n",
    "    for i in range(1,snum+1):\n",
    "        if(n1%i==0 and n2%i==0):\n",
    "            res=i\n",
    "    return res\n",
    "n1=int(input(\"Enter first Number:\"))\n",
    "n2=int(input(\"Enter second Number:\"))\n",
    "print(\"HCF of\",n1,\"and\",n2,\"is\",hcf(n1,n2))"
   ]
  },
  {
   "cell_type": "code",
   "execution_count": null,
   "id": "b6021cca",
   "metadata": {},
   "outputs": [],
   "source": []
  },
  {
   "cell_type": "code",
   "execution_count": null,
   "id": "ef5e8e0b",
   "metadata": {},
   "outputs": [],
   "source": []
  }
 ],
 "metadata": {
  "kernelspec": {
   "display_name": "Python 3 (ipykernel)",
   "language": "python",
   "name": "python3"
  },
  "language_info": {
   "codemirror_mode": {
    "name": "ipython",
    "version": 3
   },
   "file_extension": ".py",
   "mimetype": "text/x-python",
   "name": "python",
   "nbconvert_exporter": "python",
   "pygments_lexer": "ipython3",
   "version": "3.11.3"
  }
 },
 "nbformat": 4,
 "nbformat_minor": 5
}

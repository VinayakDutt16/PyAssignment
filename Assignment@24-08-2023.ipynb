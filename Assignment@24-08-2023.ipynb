{
 "cells": [
  {
   "cell_type": "code",
   "execution_count": 2,
   "id": "d72f3e0f",
   "metadata": {},
   "outputs": [
    {
     "name": "stdout",
     "output_type": "stream",
     "text": [
      "Enter the String:aeiou\n",
      "Total Number of vowel : 5\n"
     ]
    }
   ],
   "source": [
    "str1=input(\"Enter the String:\")\n",
    "count =0\n",
    "for i in range(0,len(str1)):\n",
    "    if(str1[i]=='a' or str1[i]=='e' or str1[i]=='i' or str1[i]=='o' or str1[i]=='u'):\n",
    "        count+=1\n",
    "print(\"Total Number of vowel :\",count)"
   ]
  },
  {
   "cell_type": "code",
   "execution_count": 14,
   "id": "366e9bc8",
   "metadata": {},
   "outputs": [
    {
     "name": "stdout",
     "output_type": "stream",
     "text": [
      "Enter the String :vinayakeo\n",
      "Number of a's :(a) 2\n",
      "Number of e's :(e) 1\n",
      "Number of i's :(i) 1\n",
      "Number of o's :(a) 1\n",
      "Number of u's :(a) 0\n"
     ]
    }
   ],
   "source": [
    "# Total number of individual vowels\n",
    "st=input(\"Enter the String :\")\n",
    "i=0\n",
    "ca=0\n",
    "ce=0\n",
    "ci=0\n",
    "co=0\n",
    "cu=0\n",
    "while(i<len(st)):\n",
    "    if(st[i]=='a' or st[i]=='A'):\n",
    "        ca+=1\n",
    "    elif(st[i]=='e' or st[i]=='E'):\n",
    "        ce+=1\n",
    "    elif(st[i]=='i' or st[i]=='I'):\n",
    "        ci+=1\n",
    "    elif(st[i]=='o' or st[i]=='O'):\n",
    "        co+=1\n",
    "    elif(st[i]=='u' or st[i]=='U'):\n",
    "        cu+=1\n",
    "    #else:\n",
    "    #    print({st[i]},\" is not a vowel\")\n",
    "    i+=1\n",
    "print(\"Number of a's :(a)\",ca)\n",
    "print(\"Number of e's :(e)\",ce)\n",
    "print(\"Number of i's :(i)\",ci)\n",
    "print(\"Number of o's :(a)\",co)\n",
    "print(\"Number of u's :(a)\",cu)\n",
    "\n",
    "    \n",
    "    "
   ]
  },
  {
   "cell_type": "code",
   "execution_count": 25,
   "id": "ea100ad3",
   "metadata": {},
   "outputs": [
    {
     "name": "stdout",
     "output_type": "stream",
     "text": [
      "Enter the String :Ahelloe\n",
      "Both a and e are present in the string\n"
     ]
    }
   ],
   "source": [
    "#Check wether a and e are both present in the string or not\n",
    "str1=input(\"Enter the String :\")\n",
    "counta=0\n",
    "counte=0\n",
    "i=0\n",
    "while(i<len(str1)):\n",
    "    if(str1[i]=='a' or str1[i]=='A'):\n",
    "        counta+=1\n",
    "    if(str1[i]=='e' or str1[i]=='e'):\n",
    "        counte+=1\n",
    "    i+=1\n",
    "if(counta>0 and counte>0):\n",
    "    print(\"Both a and e are present in the string\")\n",
    "else:\n",
    "    print(\"Either a or e are not present in the string\")"
   ]
  },
  {
   "cell_type": "code",
   "execution_count": 33,
   "id": "09ee80db",
   "metadata": {},
   "outputs": [
    {
     "name": "stdout",
     "output_type": "stream",
     "text": [
      "For area enter length, breadth , height\n",
      "\n",
      "Enter Length :1\n",
      "Enter Breadth :2\n",
      "Enter Height :3\n",
      "Enter Shape of choice\n",
      "1.Triangle\n",
      "2.Square\n",
      "3.Rectangle\n",
      "4.Circle\n",
      "Enter :0\n",
      "Wrong choice!!!!\n"
     ]
    }
   ],
   "source": [
    "#take input l,b,h and print are of triangle ,square, rectangle and circle\n",
    "print(\"For area enter length, breadth , height\\n\")\n",
    "l=float(input(\"Enter Length :\"))\n",
    "b=float(input(\"Enter Breadth :\"))\n",
    "h=float(input(\"Enter Height :\"))\n",
    "print(\"Enter Shape of choice\")\n",
    "print(\"1.Triangle\")\n",
    "print(\"2.Square\")\n",
    "print(\"3.Rectangle\")\n",
    "print(\"4.Circle\")\n",
    "ch=int(input(\"Enter :\"))\n",
    "if(ch==1):\n",
    "    area=1/2*b*h\n",
    "    print(\"Area of triangle\",area)\n",
    "elif(ch==2):\n",
    "    s=float(input(\"Enter Side :\"))\n",
    "    area=s*s\n",
    "    print(\"Area of Square :\",area)\n",
    "elif(ch==3):\n",
    "    area=l*b\n",
    "    print(\"Area of Rectangle:\",area)\n",
    "elif(ch==4):\n",
    "    r=float(input(\"Enter Radius :\"))\n",
    "    area=3.14*r*r\n",
    "    print(\"Area of circle :\",area)\n",
    "else:\n",
    "    print(\"Wrong choice!!!!\")"
   ]
  },
  {
   "cell_type": "code",
   "execution_count": null,
   "id": "a4061482",
   "metadata": {},
   "outputs": [],
   "source": []
  }
 ],
 "metadata": {
  "kernelspec": {
   "display_name": "Python 3 (ipykernel)",
   "language": "python",
   "name": "python3"
  },
  "language_info": {
   "codemirror_mode": {
    "name": "ipython",
    "version": 3
   },
   "file_extension": ".py",
   "mimetype": "text/x-python",
   "name": "python",
   "nbconvert_exporter": "python",
   "pygments_lexer": "ipython3",
   "version": "3.11.3"
  }
 },
 "nbformat": 4,
 "nbformat_minor": 5
}
